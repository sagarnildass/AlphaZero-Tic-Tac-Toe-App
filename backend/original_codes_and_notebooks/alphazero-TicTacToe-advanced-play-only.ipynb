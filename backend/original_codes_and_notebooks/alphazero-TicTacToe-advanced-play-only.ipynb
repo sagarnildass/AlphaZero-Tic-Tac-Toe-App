{
 "cells": [
  {
   "cell_type": "markdown",
   "id": "9ee6d56e",
   "metadata": {},
   "source": [
    "# Initialize a game"
   ]
  },
  {
   "cell_type": "code",
   "execution_count": null,
   "id": "9e4615a8",
   "metadata": {},
   "outputs": [],
   "source": [
    "from ConnectN import ConnectN\n",
    "from Play import Play"
   ]
  },
  {
   "cell_type": "code",
   "execution_count": null,
   "id": "d7f21682",
   "metadata": {},
   "outputs": [],
   "source": [
    "import torch\n",
    "import torch.nn as nn\n",
    "import torch.nn.functional as F\n",
    "from math import *\n",
    "import numpy as np\n",
    "\n",
    "from ConnectN import ConnectN\n",
    "game_setting = {'size':(6,6), 'N':4}\n",
    "game = ConnectN(**game_setting)\n",
    "\n",
    "class Policy(nn.Module):\n",
    "\n",
    "    def __init__(self, game):\n",
    "        super(Policy, self).__init__()\n",
    "\n",
    "        # input = 6x6 board\n",
    "        # convert to 5x5x16\n",
    "        self.conv1 = nn.Conv2d(1, 16, kernel_size=2, stride=1, bias=False)\n",
    "        # 5x5x16 to 3x3x32\n",
    "        self.conv2 = nn.Conv2d(16, 32, kernel_size=3, stride=1, bias=False)\n",
    "\n",
    "        self.size=3*3*32\n",
    "        \n",
    "        # the part for actions\n",
    "        self.fc_action1 = nn.Linear(self.size, self.size//4)\n",
    "        self.fc_action2 = nn.Linear(self.size//4, 36)\n",
    "        \n",
    "        # the part for the value function\n",
    "        self.fc_value1 = nn.Linear(self.size, self.size//6)\n",
    "        self.fc_value2 = nn.Linear(self.size//6, 1)\n",
    "        self.tanh_value = nn.Tanh()\n",
    "        \n",
    "    def forward(self, x):\n",
    "\n",
    "        y = F.leaky_relu(self.conv1(x))\n",
    "        y = F.leaky_relu(self.conv2(y))\n",
    "        y = y.view(-1, self.size)\n",
    "        \n",
    "        # action head\n",
    "        a = self.fc_action2(F.leaky_relu(self.fc_action1(y)))\n",
    "        \n",
    "        avail = (torch.abs(x.squeeze())!=1).type(torch.FloatTensor)\n",
    "        avail = avail.reshape(-1, 36)\n",
    "        maxa = torch.max(a)\n",
    "        exp = avail*torch.exp(a-maxa)\n",
    "        prob = exp/torch.sum(exp)\n",
    "        \n",
    "        # value head\n",
    "        value = self.tanh_value(self.fc_value2(F.leaky_relu( self.fc_value1(y) )))\n",
    "        return prob.view(6,6), value\n",
    "\n",
    "policy = Policy(game)\n"
   ]
  },
  {
   "cell_type": "markdown",
   "id": "c306ee81",
   "metadata": {},
   "source": [
    "# Define a MCTS player for Play"
   ]
  },
  {
   "cell_type": "code",
   "execution_count": null,
   "id": "1ac672d5",
   "metadata": {},
   "outputs": [],
   "source": [
    "import MCTS\n",
    "\n",
    "from copy import copy\n",
    "\n",
    "def Policy_Player_MCTS(game):\n",
    "    mytree = MCTS.Node(copy(game))\n",
    "    for _ in range(2000):\n",
    "        mytree.explore(policy)\n",
    "       \n",
    "    mytreenext, (v, nn_v, p, nn_p) = mytree.next(temperature=0.1)\n",
    "    \n",
    "    return mytreenext.game.last_move\n",
    "\n",
    "import random\n",
    "\n",
    "def Random_Player(game):\n",
    "    return random.choice(game.available_moves())    \n"
   ]
  },
  {
   "cell_type": "code",
   "execution_count": null,
   "id": "1b12ee62",
   "metadata": {},
   "outputs": [],
   "source": [
    "# initialize our alphazero agent and optimizer\n",
    "import torch.optim as optim\n",
    "\n",
    "\n",
    "game=ConnectN(**game_setting)\n",
    "policy = Policy(game)\n",
    "#optimizer = optim.Adam(policy.parameters(), lr=.005, weight_decay=1.e-5)\n"
   ]
  },
  {
   "cell_type": "markdown",
   "id": "829f3a9b",
   "metadata": {},
   "source": [
    "# setup environment to pit your AI against the challenge policy '6-6-4-pie.policy'"
   ]
  },
  {
   "cell_type": "code",
   "execution_count": null,
   "id": "3660ac12",
   "metadata": {},
   "outputs": [],
   "source": [
    "import torch\n",
    "\n",
    "challenge_policy = torch.load('6-6-4-pie.policy')\n",
    "\n",
    "def Challenge_Player_MCTS(game):\n",
    "    mytree = MCTS.Node(copy(game))\n",
    "    for _ in range(1500):\n",
    "        mytree.explore(challenge_policy)\n",
    "       \n",
    "    mytreenext, (v, nn_v, p, nn_p) = mytree.next(temperature=0.1)\n",
    "    \n",
    "    return mytreenext.game.last_move\n",
    "\n"
   ]
  },
  {
   "cell_type": "markdown",
   "id": "f220b795",
   "metadata": {},
   "source": [
    "# Let the game begin!"
   ]
  },
  {
   "cell_type": "code",
   "execution_count": null,
   "id": "ca4b6a9c",
   "metadata": {},
   "outputs": [],
   "source": [
    "# You play second\n",
    "%matplotlib notebook\n",
    "gameplay=Play(ConnectN(**game_setting), \n",
    "              player2=None, \n",
    "              player1=Challenge_Player_MCTS)"
   ]
  },
  {
   "cell_type": "code",
   "execution_count": null,
   "id": "21c6cab9",
   "metadata": {},
   "outputs": [],
   "source": [
    "# You play first\n",
    "%matplotlib widget\n",
    "gameplay=Play(ConnectN(**game_setting), \n",
    "              player1=None, \n",
    "              player2=Challenge_Player_MCTS)\n"
   ]
  },
  {
   "cell_type": "code",
   "execution_count": null,
   "id": "4f445c14",
   "metadata": {},
   "outputs": [],
   "source": [
    "# 2 AIs play\n",
    "%matplotlib notebook\n",
    "gameplay=Play(ConnectN(**game_setting), \n",
    "              player1=Challenge_Player_MCTS, \n",
    "              player2=Challenge_Player_MCTS)"
   ]
  },
  {
   "cell_type": "code",
   "execution_count": null,
   "id": "6b38244e",
   "metadata": {},
   "outputs": [],
   "source": [
    "#!pip install ipympl\n",
    "#!pip install nodejs-bin\n",
    "!jupyter labextension install @jupyter-widgets/jupyterlab-manager"
   ]
  },
  {
   "cell_type": "code",
   "execution_count": null,
   "id": "7220e8d5-5465-4351-8a7b-9a692217dbf6",
   "metadata": {},
   "outputs": [],
   "source": []
  }
 ],
 "metadata": {
  "kernelspec": {
   "display_name": "Python 3 (ipykernel)",
   "language": "python",
   "name": "python3"
  },
  "language_info": {
   "codemirror_mode": {
    "name": "ipython",
    "version": 3
   },
   "file_extension": ".py",
   "mimetype": "text/x-python",
   "name": "python",
   "nbconvert_exporter": "python",
   "pygments_lexer": "ipython3",
   "version": "3.9.18"
  }
 },
 "nbformat": 4,
 "nbformat_minor": 5
}
